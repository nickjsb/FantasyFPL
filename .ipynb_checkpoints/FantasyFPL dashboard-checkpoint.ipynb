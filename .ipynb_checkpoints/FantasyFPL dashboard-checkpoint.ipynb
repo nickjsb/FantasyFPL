{
 "cells": [
  {
   "cell_type": "markdown",
   "metadata": {},
   "source": [
    "# This is my FantasyFPL Dashboard to visualise data from the API"
   ]
  },
  {
   "cell_type": "markdown",
   "metadata": {},
   "source": [
    "### Here I have imported all the required packages/modules"
   ]
  },
  {
   "cell_type": "code",
   "execution_count": null,
   "metadata": {},
   "outputs": [],
   "source": [
    "import requests\n",
    "import pandas as pd\n",
    "import numpy as np\n",
    "from ipywidgets import interactive, HBox, Tab, Dropdown\n",
    "from IPython.display import display, HTML\n",
    "pd.options.mode.chained_assignment = None  # default='warn'"
   ]
  },
  {
   "cell_type": "markdown",
   "metadata": {},
   "source": [
    "### Here I have defined all variables needed"
   ]
  },
  {
   "cell_type": "code",
   "execution_count": null,
   "metadata": {},
   "outputs": [],
   "source": [
    "url = \"https://fantasy.premierleague.com/api/bootstrap-static/\"\n",
    "r = requests.get(url)\n",
    "json = r.json()\n",
    "elements_df = pd.DataFrame(json['elements'])\n",
    "elements_types_df = pd.DataFrame(json['element_types'])\n",
    "teams_df = pd.DataFrame(json['teams'])"
   ]
  },
  {
   "cell_type": "markdown",
   "metadata": {},
   "source": [
    "### This is my first function"
   ]
  },
  {
   "cell_type": "markdown",
   "metadata": {},
   "source": [
    "###### This function will get data and display players who have the best value for money (value = points / cost). This will show players of all positions and sort by value ascending"
   ]
  },
  {
   "cell_type": "code",
   "execution_count": null,
   "metadata": {},
   "outputs": [],
   "source": [
    "def get_squad(Rows):\n",
    "    slim_elements_df = elements_df[['first_name','second_name', 'team','element_type', 'selected_by_percent',\n",
    "                               'now_cost', 'minutes', 'transfers_in', 'value_season', 'total_points']]\n",
    "    slim_elements_df['position'] = slim_elements_df.element_type.map(elements_types_df.set_index('id').singular_name)\n",
    "    slim_elements_df['team'] = slim_elements_df.team.map(teams_df.set_index('id').name)\n",
    "    slim_elements_df['value'] = slim_elements_df.value_season.astype(float)\n",
    "    slim_elements_df = slim_elements_df.loc[slim_elements_df.value > 0]\n",
    "    pivot = slim_elements_df.pivot_table(index=['first_name','second_name', 'position'] ,values='value',aggfunc=np.mean).reset_index()\n",
    "    #team_pivot = slim_elements_df.pivot_table(index='team',values='value',aggfunc=np.mean).reset_index()\n",
    "\n",
    "    #team_pivot.sort_values('value',ascending=False)\n",
    "    df = pivot.sort_values('value', ascending=False).head(Rows)\n",
    "    display(df)\n",
    "\n",
    "get_squad = interactive(\n",
    "    get_squad, \n",
    "    {\"manual\": True, \"manual_name\": \"Get Squad\"},\n",
    "    Rows = Dropdown(options=[5,10,15]))\n",
    "get_squad"
   ]
  },
  {
   "cell_type": "markdown",
   "metadata": {},
   "source": [
    "### This is the Goalkeepers function"
   ]
  },
  {
   "cell_type": "markdown",
   "metadata": {},
   "source": [
    "###### This function will get data and display players who have the best value for money (value = points / cost). This will show only goalkeepers and sort by value ascending"
   ]
  },
  {
   "cell_type": "code",
   "execution_count": null,
   "metadata": {},
   "outputs": [],
   "source": [
    "def get_goalkeepers(Rows):\n",
    "    slim_elements_df = elements_df[['first_name','second_name', 'team','element_type', 'selected_by_percent',\n",
    "                               'now_cost', 'minutes', 'transfers_in', 'value_season', 'total_points']]\n",
    "    slim_elements_df['position'] = slim_elements_df.element_type.map(elements_types_df.set_index('id').singular_name)\n",
    "    slim_elements_df['team'] = slim_elements_df.team.map(teams_df.set_index('id').name)\n",
    "    slim_elements_df['value'] = slim_elements_df.value_season.astype(float)\n",
    "    slim_elements_df = slim_elements_df.loc[slim_elements_df.value > 0]\n",
    "    #pivot = slim_elements_df.pivot_table(index=['first_name', 'second_name', 'position'], values='value', aggfunc=np.mean).reset_index()\n",
    "    goalkeeper_df = slim_elements_df.loc[slim_elements_df.position == \"Goalkeeper\"].pivot_table(index=['first_name', 'second_name', 'position'], values='value', aggfunc=np.mean).reset_index().sort_values('value', ascending=False).head(Rows)\n",
    "    display(goalkeeper_df)\n",
    "    \n",
    "get_goalkeepers = interactive(\n",
    "    get_goalkeepers, \n",
    "    {\"manual\": True, \"manual_name\": \"Get Goalkeepers\"},\n",
    "    Rows = Dropdown(options=[5,10,15]))\n",
    "get_goalkeepers"
   ]
  },
  {
   "cell_type": "markdown",
   "metadata": {},
   "source": [
    "### This is the Defenders function"
   ]
  },
  {
   "cell_type": "markdown",
   "metadata": {},
   "source": [
    "###### This function will get data and display players who have the best value for money (value = points / cost). This will show only defenders and sort by value ascending"
   ]
  },
  {
   "cell_type": "code",
   "execution_count": null,
   "metadata": {},
   "outputs": [],
   "source": [
    "def get_defenders(Rows):\n",
    "    slim_elements_df = elements_df[['first_name','second_name', 'team','element_type', 'selected_by_percent',\n",
    "                               'now_cost', 'minutes', 'transfers_in', 'value_season', 'total_points']]\n",
    "    slim_elements_df['position'] = slim_elements_df.element_type.map(elements_types_df.set_index('id').singular_name)\n",
    "    slim_elements_df['team'] = slim_elements_df.team.map(teams_df.set_index('id').name)\n",
    "    slim_elements_df['value'] = slim_elements_df.value_season.astype(float)\n",
    "    slim_elements_df = slim_elements_df.loc[slim_elements_df.value > 0]\n",
    "    defenders_df = slim_elements_df.loc[slim_elements_df.position == \"Defender\"].pivot_table(index=['first_name', 'second_name', 'position'], values='value', aggfunc=np.mean).reset_index().sort_values('value', ascending=False).head(Rows)\n",
    "    display(defenders_df)\n",
    "    \n",
    "get_defenders = interactive(\n",
    "    get_defenders, \n",
    "    {\"manual\": True, \"manual_name\": \"Get Defenders\"},\n",
    "    Rows = Dropdown(options=[5,10,15]))\n",
    "get_defenders"
   ]
  },
  {
   "cell_type": "markdown",
   "metadata": {},
   "source": [
    "### This is the Midfielders function"
   ]
  },
  {
   "cell_type": "markdown",
   "metadata": {},
   "source": [
    "###### This function will get data and display players who have the best value for money (value = points / cost). This will show only midfielders and sort by value ascending"
   ]
  },
  {
   "cell_type": "code",
   "execution_count": null,
   "metadata": {},
   "outputs": [],
   "source": [
    "def get_midfielders(Rows):\n",
    "    slim_elements_df = elements_df[['first_name','second_name', 'team','element_type', 'selected_by_percent',\n",
    "                               'now_cost', 'minutes', 'transfers_in', 'value_season', 'total_points']]\n",
    "    slim_elements_df['position'] = slim_elements_df.element_type.map(elements_types_df.set_index('id').singular_name)\n",
    "    slim_elements_df['team'] = slim_elements_df.team.map(teams_df.set_index('id').name)\n",
    "    slim_elements_df['value'] = slim_elements_df.value_season.astype(float)\n",
    "    slim_elements_df = slim_elements_df.loc[slim_elements_df.value > 0]\n",
    "    midfielders_df = slim_elements_df.loc[slim_elements_df.position == \"Midfielder\"].pivot_table(index=['first_name', 'second_name', 'position'], values='value', aggfunc=np.mean).reset_index().sort_values('value', ascending=False).head(Rows)\n",
    "    display(midfielders_df)\n",
    "    \n",
    "get_midfielders = interactive(\n",
    "    get_midfielders, \n",
    "    {\"manual\": True, \"manual_name\": \"Get Midfielders\"},\n",
    "    Rows = Dropdown(options=[5,10,15]))\n",
    "get_defenders"
   ]
  },
  {
   "cell_type": "markdown",
   "metadata": {},
   "source": [
    "### This is the Forwards function"
   ]
  },
  {
   "cell_type": "markdown",
   "metadata": {},
   "source": [
    "###### This function will get data and display players who have the best value for money (value = points / cost). This will show only forwards and sort by value ascending"
   ]
  },
  {
   "cell_type": "code",
   "execution_count": null,
   "metadata": {},
   "outputs": [],
   "source": [
    "def get_forwards(Rows):\n",
    "    slim_elements_df = elements_df[['first_name','second_name', 'team','element_type', 'selected_by_percent',\n",
    "                               'now_cost', 'minutes', 'transfers_in', 'value_season', 'total_points']]\n",
    "    slim_elements_df['position'] = slim_elements_df.element_type.map(elements_types_df.set_index('id').singular_name)\n",
    "    slim_elements_df['team'] = slim_elements_df.team.map(teams_df.set_index('id').name)\n",
    "    slim_elements_df['value'] = slim_elements_df.value_season.astype(float)\n",
    "    slim_elements_df = slim_elements_df.loc[slim_elements_df.value > 0]\n",
    "    forwards_df = slim_elements_df.loc[slim_elements_df.position == \"Forward\"].pivot_table(index=['first_name', 'second_name', 'position'], values='value', aggfunc=np.mean).reset_index().sort_values('value', ascending=False).head(Rows)\n",
    "    display(forwards_df)\n",
    "    \n",
    "get_forwards = interactive(\n",
    "    get_forwards, \n",
    "    {\"manual\": True, \"manual_name\": \"Get Forwards\"},\n",
    "    Rows = Dropdown(options=[5,10,15]))\n",
    "get_forwards"
   ]
  },
  {
   "cell_type": "markdown",
   "metadata": {},
   "source": [
    "### This is the section to show the format of the dashboard tabs and dropdown boxes."
   ]
  },
  {
   "cell_type": "code",
   "execution_count": 14,
   "metadata": {},
   "outputs": [
    {
     "data": {
      "application/vnd.jupyter.widget-view+json": {
       "model_id": "c6c88e6287cc446ba79970971b362af9",
       "version_major": 2,
       "version_minor": 0
      },
      "text/plain": [
       "Tab(children=(interactive(children=(Dropdown(description='Rows', index=2, options=(5, 10, 15), value=15), Butt…"
      ]
     },
     "metadata": {},
     "output_type": "display_data"
    }
   ],
   "source": [
    "widgets = [get_squad, get_goalkeepers, get_defenders, get_midfielders, get_forwards]\n",
    "names = [\"Squad\", \"Goalkeepers\", \"Defenders\", \"Midfielders\", \"Forwards\"]\n",
    "view = Tab(widgets)\n",
    "for i in range (len(view.children)):\n",
    "    view.set_title(i, names[i])\n",
    "view"
   ]
  },
  {
   "cell_type": "code",
   "execution_count": null,
   "metadata": {},
   "outputs": [],
   "source": []
  }
 ],
 "metadata": {
  "kernelspec": {
   "display_name": "Python 3",
   "language": "python",
   "name": "python3"
  },
  "language_info": {
   "codemirror_mode": {
    "name": "ipython",
    "version": 3
   },
   "file_extension": ".py",
   "mimetype": "text/x-python",
   "name": "python",
   "nbconvert_exporter": "python",
   "pygments_lexer": "ipython3",
   "version": "3.8.5"
  }
 },
 "nbformat": 4,
 "nbformat_minor": 4
}
